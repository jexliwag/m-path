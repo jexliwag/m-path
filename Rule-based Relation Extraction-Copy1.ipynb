{
 "cells": [
  {
   "cell_type": "markdown",
   "metadata": {},
   "source": [
    "# Rule-based Relation Extraction"
   ]
  },
  {
   "cell_type": "code",
   "execution_count": 19,
   "metadata": {},
   "outputs": [],
   "source": [
    "import spacy\n",
    "import scispacy\n",
    "import en_ner_bc5cdr_md as ner\n",
    "from spacy import displacy\n",
    "from spacy.matcher import Matcher\n",
    "import networkx as nx\n",
    "import matplotlib.pyplot as plt"
   ]
  },
  {
   "cell_type": "markdown",
   "metadata": {},
   "source": [
    "### Loading NLP Model\n",
    "We use the pre-trained NER model `en_ner_bc5cdr_md` as our language model. Since we will be dealing with small chemicals/metabolites, this has the benefit of identifying the relevant biochemical entities from the text. "
   ]
  },
  {
   "cell_type": "code",
   "execution_count": 2,
   "metadata": {},
   "outputs": [],
   "source": [
    "nlp = ner.load()"
   ]
  },
  {
   "cell_type": "markdown",
   "metadata": {},
   "source": [
    "In this notebook, we will be exploring three (3) rule-based approaches to relation extraction, specifically for extracting metabolic reactions. Each approach is shown to be effective for a particular sentence structure and this is used to illustrate the application of each approach."
   ]
  },
  {
   "cell_type": "markdown",
   "metadata": {},
   "source": [
    "### Method 1: Dependency Parsing"
   ]
  },
  {
   "cell_type": "code",
   "execution_count": 48,
   "metadata": {},
   "outputs": [],
   "source": [
    "# filename = \"REF-01.txt\"\n",
    "# doc = nlp(open(r\"C:\\Users\\jliwag\\Documents\\m-path\\data\\REF-01.txt\").read())\n",
    "# doc = nlp(\"Caffeine is metabolized extensively to paraxanthine.\")\n",
    "# # doc = nlp(\"Caffeine metabolizes into paraxanthine.\")\n",
    "# # doc = nlp(\"L-Arabinose isomerase catalyzes the conversion of L-arabinose to L-ribulose, the first step in the utilization of n-arabinose by Escherichia coli B/r.\")\n",
    "doc = nlp(\"The remaining 15% of caffeine undergoes C-8 hydroxylation to form paraxanthine.\")"
   ]
  },
  {
   "cell_type": "code",
   "execution_count": 3,
   "metadata": {},
   "outputs": [],
   "source": [
    "# matcher = Matcher(nlp.vocab)\n",
    "# pattern = [{'LOWER': 'to'}, {'LOWER':'form', 'OP':'?'},{'POS': 'NOUN'}]\n",
    "# matcher.add('CAND', None, pattern)\n",
    "# pattern2 = [{'LOWER':'formation'},{'LOWER': 'of'}, {}]\n",
    "# matcher.add('CAND1', None, pattern2)"
   ]
  },
  {
   "cell_type": "code",
   "execution_count": 49,
   "metadata": {},
   "outputs": [
    {
     "data": {
      "text/plain": [
       "The remaining 15% of caffeine undergoes C-8 hydroxylation to form paraxanthine."
      ]
     },
     "execution_count": 49,
     "metadata": {},
     "output_type": "execute_result"
    }
   ],
   "source": [
    "doc"
   ]
  },
  {
   "cell_type": "code",
   "execution_count": 50,
   "metadata": {},
   "outputs": [
    {
     "data": {
      "text/plain": [
       "['caffeine', 'paraxanthine']"
      ]
     },
     "execution_count": 50,
     "metadata": {},
     "output_type": "execute_result"
    }
   ],
   "source": [
    "entities = [str(ent).lower() for ent in doc.ents]\n",
    "entities = list(set(entities))\n",
    "entities"
   ]
  },
  {
   "cell_type": "code",
   "execution_count": 51,
   "metadata": {},
   "outputs": [
    {
     "data": {
      "text/plain": [
       "[('%', 'the'),\n",
       " ('%', 'remaining'),\n",
       " ('%', '15'),\n",
       " ('%', 'caffeine'),\n",
       " ('caffeine', 'of'),\n",
       " ('undergoes', '%'),\n",
       " ('undergoes', 'hydroxylation'),\n",
       " ('undergoes', 'form'),\n",
       " ('undergoes', '.'),\n",
       " ('hydroxylation', 'c-8'),\n",
       " ('form', 'to'),\n",
       " ('form', 'paraxanthine')]"
      ]
     },
     "execution_count": 51,
     "metadata": {},
     "output_type": "execute_result"
    }
   ],
   "source": [
    "edges = []\n",
    "for token in doc:\n",
    "    for child in token.children:\n",
    "        edges.append(('{0}'.format(token.lower_),\n",
    "                      '{0}'.format(child.lower_)))\n",
    "edges"
   ]
  },
  {
   "cell_type": "code",
   "execution_count": 52,
   "metadata": {},
   "outputs": [
    {
     "data": {
      "image/png": "[encoded data removed]",
      "text/plain": [
       "<Figure size 576x576 with 1 Axes>"
      ]
     },
     "metadata": {},
     "output_type": "display_data"
    }
   ],
   "source": [
    "plt.figure(figsize=(8,8))\n",
    "plt.axis(\"off\")\n",
    "G = nx.Graph()\n",
    "G.add_edges_from(edges)\n",
    "pos = nx.spring_layout(G, seed=2)\n",
    "nx.draw_networkx(G, pos, font_color=\"black\", with_labels=True)"
   ]
  },
  {
   "cell_type": "code",
   "execution_count": 53,
   "metadata": {},
   "outputs": [
    {
     "name": "stdout",
     "output_type": "stream",
     "text": [
      "['caffeine', '%', 'undergoes', 'form', 'paraxanthine']\n"
     ]
    }
   ],
   "source": [
    "entity1 = \"caffeine\"\n",
    "entity2 = \"paraxanthine\"\n",
    "print(nx.shortest_path(G, source=entity1, target=entity2))"
   ]
  },
  {
   "cell_type": "code",
   "execution_count": 54,
   "metadata": {},
   "outputs": [
    {
     "data": {
      "text/plain": [
       "[('undergo', [])]"
      ]
     },
     "execution_count": 54,
     "metadata": {},
     "output_type": "execute_result"
    }
   ],
   "source": [
    "triples = []\n",
    "# valid_dep = [\"nsubjpass\",\"nmod\"]\n",
    "for token in doc:\n",
    "    if token.dep_ == \"ROOT\":\n",
    "        triples.append((token.lemma_,[child.lemma_ for child in token.children if str(child).lower() in entities]))\n",
    "triples"
   ]
  },
  {
   "cell_type": "markdown",
   "metadata": {},
   "source": [
    "### Explicit and Active"
   ]
  },
  {
   "cell_type": "code",
   "execution_count": 17,
   "metadata": {},
   "outputs": [],
   "source": [
    "doc = nlp (\"Caffeine metabolizes into paraxanthine. Some of caffeine \")"
   ]
  },
  {
   "cell_type": "code",
   "execution_count": 18,
   "metadata": {},
   "outputs": [
    {
     "data": {
      "text/plain": [
       "(Caffeine, paraxanthine)"
      ]
     },
     "execution_count": 18,
     "metadata": {},
     "output_type": "execute_result"
    }
   ],
   "source": [
    "doc.ents"
   ]
  },
  {
   "cell_type": "code",
   "execution_count": 255,
   "metadata": {},
   "outputs": [],
   "source": [
    "# triples = []\n",
    "# for token in doc:\n",
    "#     if token.dep_ == \"ROOT\":\n",
    "#         triples.append((token.lemma_,[child.lemma_ for child in token.children if child.dep_ != \"punct\"]))\n",
    "# triples"
   ]
  },
  {
   "cell_type": "code",
   "execution_count": 11,
   "metadata": {},
   "outputs": [],
   "source": [
    "# matches = matcher(doc)\n",
    "# # Iterate over the matches\n",
    "# for match_id, start, end in matches:\n",
    "#     # Get the matched span\n",
    "#     matched_span = doc[start:end]\n",
    "#     print(matched_span.text)"
   ]
  },
  {
   "cell_type": "code",
   "execution_count": 20,
   "metadata": {},
   "outputs": [
    {
     "name": "stdout",
     "output_type": "stream",
     "text": [
      "Caffeine nsubj\n",
      "metabolizes ROOT\n",
      "into case\n",
      "paraxanthine nmod\n",
      ". punct\n"
     ]
    }
   ],
   "source": [
    "for token in doc:\n",
    "    print(token, token.dep_)"
   ]
  },
  {
   "cell_type": "code",
   "execution_count": 8,
   "metadata": {},
   "outputs": [
    {
     "name": "stdout",
     "output_type": "stream",
     "text": [
      "Caffeine Caffeine nsubjpass metabolized\n",
      "The main route route nsubj demethylation\n",
      "(70-80% % appos humans\n",
      "This reaction reaction nsubjpass carried\n",
      "Experiments Experiments nsubj estimate\n",
      "1-N- demethylation demethylation nsubj accounts\n",
      "The remaining 15% % nsubj undergoes\n",
      "C-8 hydroxylation hydroxylation dobj undergoes\n",
      "1,3,7-trimethyluric acid acid dobj form\n",
      "CYP1A2 CYP1A2 nsubj responsible\n",
      "caffeine caffeine nsubjpass used\n",
      "the major metabolites metabolites nsubj 1-methylxanthine\n",
      "(1X 1X appos 1-methylxanthine\n",
      "1-methyluric acid acid conj 1-methylxanthine\n",
      "(1U 1U appos acid\n",
      "5-acetylamino-6-formylamino-3-methyluracil 5-acetylamino-6-formylamino-3-methyluracil conj 1-methylxanthine\n",
      "(AFMU AFMU appos 5-acetylamino-6-formylamino-3-methyluracil\n",
      "1,7-dimethyluric acid acid conj 1-methylxanthine\n",
      "In vitro studies studies nsubj show\n",
      "involvement involvement dobj show\n",
      "studies studies nsubj support\n",
      "it it nsubj contributes\n",
      "Microsome experiments experiments nsubj shown\n",
      "CYP2C8 CYP2C8 nsubj participate\n",
      "CYP2C9 CYP2C9 conj CYP2C8\n",
      "CYP3A4 CYP3A4 conj CYP2C9\n"
     ]
    }
   ],
   "source": [
    "# for chunk in doc.noun_chunks:\n",
    "#     print(chunk.text, chunk.root.text, chunk.root.dep_,\n",
    "#             chunk.root.head.text)"
   ]
  }
 ],
 "metadata": {
  "kernelspec": {
   "display_name": "Python 3",
   "language": "python",
   "name": "python3"
  },
  "language_info": {
   "codemirror_mode": {
    "name": "ipython",
    "version": 3
   },
   "file_extension": ".py",
   "mimetype": "text/x-python",
   "name": "python",
   "nbconvert_exporter": "python",
   "pygments_lexer": "ipython3",
   "version": "3.7.4"
  }
 },
 "nbformat": 4,
 "nbformat_minor": 2
}
